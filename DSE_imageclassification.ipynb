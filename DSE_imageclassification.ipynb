{
  "nbformat": 4,
  "nbformat_minor": 0,
  "metadata": {
    "colab": {
      "name": "DSE-imageclassification.ipynb",
      "provenance": [],
      "collapsed_sections": [],
      "toc_visible": true,
      "include_colab_link": true
    },
    "kernelspec": {
      "name": "python3",
      "display_name": "Python 3"
    }
  },
  "cells": [
    {
      "cell_type": "markdown",
      "metadata": {
        "id": "view-in-github",
        "colab_type": "text"
      },
      "source": [
        "<a href=\"https://colab.research.google.com/github/ktardthong/DSE_g19/blob/master/DSE_imageclassification.ipynb\" target=\"_parent\"><img src=\"https://colab.research.google.com/assets/colab-badge.svg\" alt=\"Open In Colab\"/></a>"
      ]
    },
    {
      "cell_type": "markdown",
      "metadata": {
        "id": "coo-C95JCL1O",
        "colab_type": "text"
      },
      "source": [
        "# Machine Learning"
      ]
    },
    {
      "cell_type": "markdown",
      "metadata": {
        "id": "vcKvAmCwCTOM",
        "colab_type": "text"
      },
      "source": [
        "##Pipeline\n",
        "1. get data\n",
        "2. extract feature\n",
        "3. run model\n",
        "4. test model\n",
        "5. deploy model"
      ]
    },
    {
      "cell_type": "code",
      "metadata": {
        "id": "quidBONyIauc",
        "colab_type": "code",
        "colab": {
          "base_uri": "https://localhost:8080/",
          "height": 125
        },
        "outputId": "ae2b8cdd-fd9c-4139-e621-8f0f8fb7f425"
      },
      "source": [
        "!pip install botnoi==0.2.1"
      ],
      "execution_count": null,
      "outputs": [
        {
          "output_type": "stream",
          "text": [
            "Collecting botnoi==0.2.1\n",
            "\u001b[?25l  Downloading https://files.pythonhosted.org/packages/07/54/fca45b7ad26655c3c59249b16cc9b131aa4c3387a8f3ac8e97fbc43ab74d/botnoi-0.2.1-py3-none-any.whl (16.0MB)\n",
            "\u001b[K     |████████████████████████████████| 16.0MB 292kB/s \n",
            "\u001b[?25hInstalling collected packages: botnoi\n",
            "Successfully installed botnoi-0.2.1\n"
          ],
          "name": "stdout"
        }
      ]
    },
    {
      "cell_type": "code",
      "metadata": {
        "id": "Oc_Oj3aSbU5p",
        "colab_type": "code",
        "colab": {}
      },
      "source": [
        "from botnoi import scrape as sc\n",
        "from botnoi import cv\n",
        "import os"
      ],
      "execution_count": null,
      "outputs": []
    },
    {
      "cell_type": "code",
      "metadata": {
        "id": "TWymhSt-bbFO",
        "colab_type": "code",
        "colab": {}
      },
      "source": [
        "def extractimagefeat(query):\n",
        "  foldername = 'images/'+query\n",
        "  isdir = os.path.isdir(foldername) \n",
        "  if not isdir:\n",
        "    os.makedirs(foldername)\n",
        "  #get images from google search\n",
        "  imglist = sc.get_image_urls(query)\n",
        "  i = 1\n",
        "  for img in imglist[0:30]:\n",
        "    #extract image features from each images and save to files\n",
        "    try:\n",
        "      print(i)\n",
        "      savepath = foldername + '/' + str(i)+'.p'\n",
        "      a = cv.image(img)\n",
        "      a.getresnet50()\n",
        "      a.save(savepath)\n",
        "      i = i + 1\n",
        "    except:\n",
        "      pass\n",
        "  return 'complete'\n"
      ],
      "execution_count": null,
      "outputs": []
    },
    {
      "cell_type": "code",
      "metadata": {
        "id": "qsIzCjPBP8tK",
        "colab_type": "code",
        "colab": {}
      },
      "source": [
        "import glob\n",
        "import pandas as pd\n",
        "import pickle\n",
        "def createdataset(imgfolder):\n",
        "  #imgfolder = glob.glob('images/*')\n",
        "  dataset = []\n",
        "  for cls in imgfolder:\n",
        "    clsset = pd.DataFrame()\n",
        "    pList = glob.glob(cls+'/*')\n",
        "    featvec = []\n",
        "    for p in pList:\n",
        "      dat = pickle.load(open(p,'rb'))\n",
        "      featvec.append(dat.restnet50)\n",
        "    #featvec = np.vstack(featvec)\n",
        "    clsset['feature'] = featvec\n",
        "    cls = cls.split('/')[-1]\n",
        "    clsset['label'] = cls\n",
        "    dataset.append(clsset)\n",
        "  return pd.concat(dataset,axis=0)"
      ],
      "execution_count": null,
      "outputs": []
    },
    {
      "cell_type": "markdown",
      "metadata": {
        "id": "mbS7H-UUCkwe",
        "colab_type": "text"
      },
      "source": [
        "## Train model"
      ]
    },
    {
      "cell_type": "code",
      "metadata": {
        "id": "3AlHGpiCI1gg",
        "colab_type": "code",
        "colab": {}
      },
      "source": [
        "from sklearn.model_selection import train_test_split\n",
        "import numpy as np\n",
        "from sklearn.svm import LinearSVC\n",
        "from sklearn.calibration import CalibratedClassifierCV\n",
        "def trainmodel(dataset,modfile=''):\n",
        "  trainfeat, testfeat, trainlabel, testlabel = train_test_split(dataset['feature'], dataset['label'], test_size=0.33, random_state=42)\n",
        "  clf = LinearSVC()\n",
        "  clf = CalibratedClassifierCV(clf) \n",
        "  mod = clf.fit(np.vstack(trainfeat.values),trainlabel.values)\n",
        "  res = mod.predict(np.vstack(testfeat.values))\n",
        "  if modfile!='':\n",
        "    pickle.dump(mod,open(modfile,'wb'))\n",
        "  acc = sum(res == testlabel.values)/len(res)\n",
        "  return mod,acc"
      ],
      "execution_count": null,
      "outputs": []
    },
    {
      "cell_type": "code",
      "metadata": {
        "id": "xorF4kSFh3TM",
        "colab_type": "code",
        "colab": {
          "base_uri": "https://localhost:8080/",
          "height": 1000
        },
        "outputId": "4ac31598-ae27-49d5-95f8-6e4a9e2775d1"
      },
      "source": [
        "#pipeline to create model\n",
        "clsList = ['หมา','แมว']\n",
        "for c in clsList:\n",
        "  extractimagefeat(c)\n",
        "imgfolder = ['images/'+c for c in clsList]\n",
        "dataset = createdataset(imgfolder)\n",
        "#dataset\n",
        "modFile = 'mymodel.p'\n",
        "mod,acc = trainmodel(dataset,modFile)"
      ],
      "execution_count": null,
      "outputs": [
        {
          "output_type": "stream",
          "text": [
            "complete: 0.00%\n",
            "completed\n",
            "1\n",
            "Downloading data from https://storage.googleapis.com/tensorflow/keras-applications/resnet/resnet50_weights_tf_dim_ordering_tf_kernels_notop.h5\n",
            "94773248/94765736 [==============================] - 1s 0us/step\n",
            "2\n",
            "3\n",
            "4\n",
            "5\n",
            "6\n",
            "7\n",
            "8\n",
            "9\n",
            "10\n",
            "11\n",
            "12\n",
            "13\n",
            "14\n",
            "15\n",
            "15\n",
            "15\n",
            "16\n",
            "17\n",
            "18\n",
            "19\n",
            "20\n",
            "20\n",
            "21\n",
            "22\n",
            "23\n",
            "24\n",
            "25\n",
            "26\n",
            "27\n",
            "28\n",
            "29\n",
            "30\n",
            "31\n",
            "32\n",
            "33\n",
            "34\n",
            "35\n",
            "36\n",
            "37\n",
            "WARNING:tensorflow:Model was constructed with shape (None, None, None, 3) for input Tensor(\"input_1:0\", shape=(None, None, None, 3), dtype=float32), but it was called on an input with incompatible shape (1, 224, 224, 4).\n",
            "37\n",
            "38\n",
            "39\n",
            "40\n",
            "41\n",
            "42\n",
            "42\n",
            "43\n",
            "44\n",
            "44\n",
            "45\n",
            "46\n",
            "47\n",
            "48\n",
            "49\n",
            "50\n",
            "51\n",
            "52\n",
            "53\n",
            "54\n",
            "55\n",
            "56\n",
            "complete: 0.00%\n",
            "completed\n",
            "1\n",
            "2\n",
            "3\n",
            "4\n",
            "5\n",
            "6\n",
            "7\n",
            "8\n",
            "9\n",
            "10\n",
            "11\n",
            "12\n",
            "13\n",
            "14\n",
            "15\n",
            "16\n",
            "17\n",
            "18\n",
            "19\n",
            "20\n",
            "21\n",
            "22\n",
            "23\n",
            "24\n",
            "25\n",
            "26\n",
            "27\n",
            "27\n",
            "28\n",
            "29\n",
            "30\n",
            "31\n",
            "32\n",
            "33\n",
            "34\n",
            "35\n",
            "36\n",
            "37\n",
            "38\n",
            "39\n",
            "40\n",
            "41\n",
            "42\n",
            "43\n",
            "44\n",
            "45\n",
            "46\n",
            "47\n",
            "48\n",
            "48\n",
            "49\n",
            "50\n",
            "51\n",
            "52\n",
            "53\n",
            "54\n",
            "55\n",
            "56\n",
            "57\n",
            "58\n"
          ],
          "name": "stdout"
        },
        {
          "output_type": "error",
          "ename": "AttributeError",
          "evalue": "ignored",
          "traceback": [
            "\u001b[0;31m---------------------------------------------------------------------------\u001b[0m",
            "\u001b[0;31mAttributeError\u001b[0m                            Traceback (most recent call last)",
            "\u001b[0;32m<ipython-input-6-9d8f317c3c3b>\u001b[0m in \u001b[0;36m<module>\u001b[0;34m()\u001b[0m\n\u001b[1;32m      4\u001b[0m   \u001b[0mextractimagefeat\u001b[0m\u001b[0;34m(\u001b[0m\u001b[0mc\u001b[0m\u001b[0;34m)\u001b[0m\u001b[0;34m\u001b[0m\u001b[0;34m\u001b[0m\u001b[0m\n\u001b[1;32m      5\u001b[0m \u001b[0mimgfolder\u001b[0m \u001b[0;34m=\u001b[0m \u001b[0;34m[\u001b[0m\u001b[0;34m'images/'\u001b[0m\u001b[0;34m+\u001b[0m\u001b[0mc\u001b[0m \u001b[0;32mfor\u001b[0m \u001b[0mc\u001b[0m \u001b[0;32min\u001b[0m \u001b[0mclsList\u001b[0m\u001b[0;34m]\u001b[0m\u001b[0;34m\u001b[0m\u001b[0;34m\u001b[0m\u001b[0m\n\u001b[0;32m----> 6\u001b[0;31m \u001b[0mdataset\u001b[0m \u001b[0;34m=\u001b[0m \u001b[0mcreatedataset\u001b[0m\u001b[0;34m(\u001b[0m\u001b[0mimgfolder\u001b[0m\u001b[0;34m)\u001b[0m\u001b[0;34m\u001b[0m\u001b[0;34m\u001b[0m\u001b[0m\n\u001b[0m\u001b[1;32m      7\u001b[0m \u001b[0;31m#dataset\u001b[0m\u001b[0;34m\u001b[0m\u001b[0;34m\u001b[0m\u001b[0;34m\u001b[0m\u001b[0m\n\u001b[1;32m      8\u001b[0m \u001b[0mmodFile\u001b[0m \u001b[0;34m=\u001b[0m \u001b[0;34m'mymodel.p'\u001b[0m\u001b[0;34m\u001b[0m\u001b[0;34m\u001b[0m\u001b[0m\n",
            "\u001b[0;32m<ipython-input-4-f8b6cc6716b5>\u001b[0m in \u001b[0;36mcreatedataset\u001b[0;34m(imgfolder)\u001b[0m\n\u001b[1;32m     11\u001b[0m     \u001b[0;32mfor\u001b[0m \u001b[0mp\u001b[0m \u001b[0;32min\u001b[0m \u001b[0mpList\u001b[0m\u001b[0;34m:\u001b[0m\u001b[0;34m\u001b[0m\u001b[0;34m\u001b[0m\u001b[0m\n\u001b[1;32m     12\u001b[0m       \u001b[0mdat\u001b[0m \u001b[0;34m=\u001b[0m \u001b[0mpickle\u001b[0m\u001b[0;34m.\u001b[0m\u001b[0mload\u001b[0m\u001b[0;34m(\u001b[0m\u001b[0mopen\u001b[0m\u001b[0;34m(\u001b[0m\u001b[0mp\u001b[0m\u001b[0;34m,\u001b[0m\u001b[0;34m'rb'\u001b[0m\u001b[0;34m)\u001b[0m\u001b[0;34m)\u001b[0m\u001b[0;34m\u001b[0m\u001b[0;34m\u001b[0m\u001b[0m\n\u001b[0;32m---> 13\u001b[0;31m       \u001b[0mfeatvec\u001b[0m\u001b[0;34m.\u001b[0m\u001b[0mappend\u001b[0m\u001b[0;34m(\u001b[0m\u001b[0mdat\u001b[0m\u001b[0;34m.\u001b[0m\u001b[0mrestnet50\u001b[0m\u001b[0;34m)\u001b[0m\u001b[0;34m\u001b[0m\u001b[0;34m\u001b[0m\u001b[0m\n\u001b[0m\u001b[1;32m     14\u001b[0m     \u001b[0;31m#featvec = np.vstack(featvec)\u001b[0m\u001b[0;34m\u001b[0m\u001b[0;34m\u001b[0m\u001b[0;34m\u001b[0m\u001b[0m\n\u001b[1;32m     15\u001b[0m     \u001b[0mclsset\u001b[0m\u001b[0;34m[\u001b[0m\u001b[0;34m'feature'\u001b[0m\u001b[0;34m]\u001b[0m \u001b[0;34m=\u001b[0m \u001b[0mfeatvec\u001b[0m\u001b[0;34m\u001b[0m\u001b[0;34m\u001b[0m\u001b[0m\n",
            "\u001b[0;31mAttributeError\u001b[0m: 'image' object has no attribute 'restnet50'"
          ]
        }
      ]
    },
    {
      "cell_type": "code",
      "metadata": {
        "id": "lppcwp8ngNgD",
        "colab_type": "code",
        "colab": {}
      },
      "source": [
        "# output function\n",
        "mymod = pickle.load(open(modFile,'rb'))\n",
        "def predictimg(imgurl):\n",
        "  a = cv.image(imgurl)\n",
        "  feat = a.getresnet50()\n",
        "  probList = mod.predict_proba([feat])[0]\n",
        "  maxprobind = np.argmax(probList)\n",
        "  prob = probList[maxprobind]\n",
        "  outclass = mymod.classes_[maxprobind]\n",
        "  result = {}\n",
        "  result['class'] = outclass\n",
        "  result['probability'] = prob\n",
        "  return result\n"
      ],
      "execution_count": null,
      "outputs": []
    },
    {
      "cell_type": "code",
      "metadata": {
        "id": "PypshlZROYxR",
        "colab_type": "code",
        "colab": {
          "base_uri": "https://localhost:8080/",
          "height": 34
        },
        "outputId": "f17d24de-eac8-4811-a793-ae02f540a138"
      },
      "source": [
        "a=predictimg('https://do.lnwfile.com/oddu08.jpg')\n",
        "a"
      ],
      "execution_count": null,
      "outputs": [
        {
          "output_type": "execute_result",
          "data": {
            "text/plain": [
              "{'class': 'หมา', 'probability': 0.8503068726898757}"
            ]
          },
          "metadata": {
            "tags": []
          },
          "execution_count": 14
        }
      ]
    },
    {
      "cell_type": "code",
      "metadata": {
        "id": "IsEAC3XBnKpH",
        "colab_type": "code",
        "colab": {
          "base_uri": "https://localhost:8080/",
          "height": 176
        },
        "outputId": "2e03a144-1386-4e1e-a8ba-b7bb0696f32e"
      },
      "source": [
        "predictimg('https://cf.shopee.co.th/file/f338f8d43a8c609c9518d8a4a9915947')"
      ],
      "execution_count": null,
      "outputs": [
        {
          "output_type": "execute_result",
          "data": {
            "text/plain": [
              "(CalibratedClassifierCV(base_estimator=LinearSVC(C=1.0, class_weight=None,\n",
              "                                                 dual=True, fit_intercept=True,\n",
              "                                                 intercept_scaling=1,\n",
              "                                                 loss='squared_hinge',\n",
              "                                                 max_iter=1000,\n",
              "                                                 multi_class='ovr', penalty='l2',\n",
              "                                                 random_state=None, tol=0.0001,\n",
              "                                                 verbose=0),\n",
              "                        cv=None, method='sigmoid'), 0)"
            ]
          },
          "metadata": {
            "tags": []
          },
          "execution_count": 15
        }
      ]
    }
  ]
}